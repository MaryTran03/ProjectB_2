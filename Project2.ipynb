{
 "cells": [
  {
   "cell_type": "code",
   "execution_count": 1,
   "id": "c42a52fd-4507-4729-b0e7-69521a9f4097",
   "metadata": {},
   "outputs": [],
   "source": [
    "import pandas as pd\n",
    "import numpy as np\n",
    "import matplotlib.pyplot as plt\n",
    "import seaborn as sns\n",
    "import math\n",
    "from datetime import datetime"
   ]
  },
  {
   "cell_type": "markdown",
   "id": "03ca0af5-26da-4104-8de2-1296d34bef0b",
   "metadata": {},
   "source": [
    "# Introduction to the dataset.\n",
    "\n",
    "This is a part of my on-campus job as a Conway Center intern. Conway Center houses the Bloomberg Terminal, which is an information services tool that provides data on financial, economic, government, and environmental data. Since there is only 1 Bloomberg Terminal on campus, users must book an appointment via calendly. This CSV file is pooled from Calendly that keep tracks of how many signed up for the individual sessions (aka use the tool on their own) or peer mentoring appointments\n"
   ]
  },
  {
   "cell_type": "code",
   "execution_count": 2,
   "id": "5e9b67c8-ab28-422a-833b-0b43f3f179ee",
   "metadata": {},
   "outputs": [
    {
     "data": {
      "text/html": [
       "<div>\n",
       "<style scoped>\n",
       "    .dataframe tbody tr th:only-of-type {\n",
       "        vertical-align: middle;\n",
       "    }\n",
       "\n",
       "    .dataframe tbody tr th {\n",
       "        vertical-align: top;\n",
       "    }\n",
       "\n",
       "    .dataframe thead th {\n",
       "        text-align: right;\n",
       "    }\n",
       "</style>\n",
       "<table border=\"1\" class=\"dataframe\">\n",
       "  <thead>\n",
       "    <tr style=\"text-align: right;\">\n",
       "      <th></th>\n",
       "      <th>User Name</th>\n",
       "      <th>Team</th>\n",
       "      <th>Invitee Name</th>\n",
       "      <th>Invitee First Name</th>\n",
       "      <th>Invitee Last Name</th>\n",
       "      <th>Invitee Email</th>\n",
       "      <th>Invitee Time Zone</th>\n",
       "      <th>Invitee accepted marketing emails</th>\n",
       "      <th>Text Reminder Number</th>\n",
       "      <th>Event Type Name</th>\n",
       "      <th>...</th>\n",
       "      <th>Guest Email(s)</th>\n",
       "      <th>Invitee Reconfirmed</th>\n",
       "      <th>Marked as No-Show</th>\n",
       "      <th>Meeting Notes</th>\n",
       "      <th>Group</th>\n",
       "      <th>User Email</th>\n",
       "      <th>Event UUID</th>\n",
       "      <th>Invitee UUID</th>\n",
       "      <th>Invitee scheduled by</th>\n",
       "      <th>Scheduling method</th>\n",
       "    </tr>\n",
       "  </thead>\n",
       "  <tbody>\n",
       "    <tr>\n",
       "      <th>0</th>\n",
       "      <td>Conway Center</td>\n",
       "      <td>NaN</td>\n",
       "      <td>test</td>\n",
       "      <td>test</td>\n",
       "      <td>NaN</td>\n",
       "      <td>jwkennedy@smith.edu</td>\n",
       "      <td>Eastern Time - US &amp; Canada</td>\n",
       "      <td>NaN</td>\n",
       "      <td>NaN</td>\n",
       "      <td>Bloomberg Terminal</td>\n",
       "      <td>...</td>\n",
       "      <td>NaN</td>\n",
       "      <td>NaN</td>\n",
       "      <td>No</td>\n",
       "      <td>NaN</td>\n",
       "      <td>NaN</td>\n",
       "      <td>ciec@smith.edu</td>\n",
       "      <td>DESAHSTCPNPU2GFD</td>\n",
       "      <td>BEWJEC3D7ZTGL6RC</td>\n",
       "      <td>NaN</td>\n",
       "      <td>NaN</td>\n",
       "    </tr>\n",
       "    <tr>\n",
       "      <th>1</th>\n",
       "      <td>Conway Center</td>\n",
       "      <td>NaN</td>\n",
       "      <td>test</td>\n",
       "      <td>test</td>\n",
       "      <td>NaN</td>\n",
       "      <td>jwkennedy@smith.edu</td>\n",
       "      <td>Eastern Time - US &amp; Canada</td>\n",
       "      <td>NaN</td>\n",
       "      <td>NaN</td>\n",
       "      <td>Bloomberg Terminal</td>\n",
       "      <td>...</td>\n",
       "      <td>NaN</td>\n",
       "      <td>NaN</td>\n",
       "      <td>No</td>\n",
       "      <td>NaN</td>\n",
       "      <td>NaN</td>\n",
       "      <td>ciec@smith.edu</td>\n",
       "      <td>EDWAHXWCNJ4CR2YT</td>\n",
       "      <td>CFRLHE3AY544OZJB</td>\n",
       "      <td>NaN</td>\n",
       "      <td>NaN</td>\n",
       "    </tr>\n",
       "    <tr>\n",
       "      <th>2</th>\n",
       "      <td>Conway Center</td>\n",
       "      <td>NaN</td>\n",
       "      <td>NAGE NGO</td>\n",
       "      <td>NAGE</td>\n",
       "      <td>NGO</td>\n",
       "      <td>nngo@smith.edu</td>\n",
       "      <td>Eastern Time - US &amp; Canada</td>\n",
       "      <td>NaN</td>\n",
       "      <td>NaN</td>\n",
       "      <td>Bloomberg Terminal</td>\n",
       "      <td>...</td>\n",
       "      <td>NaN</td>\n",
       "      <td>NaN</td>\n",
       "      <td>No</td>\n",
       "      <td>NaN</td>\n",
       "      <td>NaN</td>\n",
       "      <td>ciec@smith.edu</td>\n",
       "      <td>AAUEBYZLIBGAAPSL</td>\n",
       "      <td>BBTMFQPRXGKE5ILK</td>\n",
       "      <td>NaN</td>\n",
       "      <td>NaN</td>\n",
       "    </tr>\n",
       "    <tr>\n",
       "      <th>3</th>\n",
       "      <td>Conway Center</td>\n",
       "      <td>NaN</td>\n",
       "      <td>Nage Ngo</td>\n",
       "      <td>Nage</td>\n",
       "      <td>Ngo</td>\n",
       "      <td>nngo@smith.edu</td>\n",
       "      <td>Eastern Time - US &amp; Canada</td>\n",
       "      <td>NaN</td>\n",
       "      <td>NaN</td>\n",
       "      <td>Bloomberg Terminal</td>\n",
       "      <td>...</td>\n",
       "      <td>NaN</td>\n",
       "      <td>NaN</td>\n",
       "      <td>No</td>\n",
       "      <td>NaN</td>\n",
       "      <td>NaN</td>\n",
       "      <td>ciec@smith.edu</td>\n",
       "      <td>EFQHBY6INHBHZC6W</td>\n",
       "      <td>EDQNBXJRWBJKXUYA</td>\n",
       "      <td>NaN</td>\n",
       "      <td>NaN</td>\n",
       "    </tr>\n",
       "    <tr>\n",
       "      <th>4</th>\n",
       "      <td>Conway Center</td>\n",
       "      <td>NaN</td>\n",
       "      <td>Nage Ngo</td>\n",
       "      <td>Nage</td>\n",
       "      <td>Ngo</td>\n",
       "      <td>nngo@smith.edu</td>\n",
       "      <td>Eastern Time - US &amp; Canada</td>\n",
       "      <td>NaN</td>\n",
       "      <td>NaN</td>\n",
       "      <td>Bloomberg Terminal</td>\n",
       "      <td>...</td>\n",
       "      <td>NaN</td>\n",
       "      <td>NaN</td>\n",
       "      <td>No</td>\n",
       "      <td>NaN</td>\n",
       "      <td>NaN</td>\n",
       "      <td>ciec@smith.edu</td>\n",
       "      <td>HCRAKIZJC5TOJNUQ</td>\n",
       "      <td>CHXKOG2OIBH5GWGJ</td>\n",
       "      <td>NaN</td>\n",
       "      <td>NaN</td>\n",
       "    </tr>\n",
       "  </tbody>\n",
       "</table>\n",
       "<p>5 rows × 43 columns</p>\n",
       "</div>"
      ],
      "text/plain": [
       "       User Name  Team Invitee Name Invitee First Name Invitee Last Name  \\\n",
       "0  Conway Center   NaN         test               test               NaN   \n",
       "1  Conway Center   NaN         test               test               NaN   \n",
       "2  Conway Center   NaN     NAGE NGO               NAGE               NGO   \n",
       "3  Conway Center   NaN     Nage Ngo               Nage               Ngo   \n",
       "4  Conway Center   NaN     Nage Ngo               Nage               Ngo   \n",
       "\n",
       "         Invitee Email           Invitee Time Zone  \\\n",
       "0  jwkennedy@smith.edu  Eastern Time - US & Canada   \n",
       "1  jwkennedy@smith.edu  Eastern Time - US & Canada   \n",
       "2       nngo@smith.edu  Eastern Time - US & Canada   \n",
       "3       nngo@smith.edu  Eastern Time - US & Canada   \n",
       "4       nngo@smith.edu  Eastern Time - US & Canada   \n",
       "\n",
       "   Invitee accepted marketing emails  Text Reminder Number  \\\n",
       "0                                NaN                   NaN   \n",
       "1                                NaN                   NaN   \n",
       "2                                NaN                   NaN   \n",
       "3                                NaN                   NaN   \n",
       "4                                NaN                   NaN   \n",
       "\n",
       "      Event Type Name  ... Guest Email(s) Invitee Reconfirmed  \\\n",
       "0  Bloomberg Terminal  ...            NaN                 NaN   \n",
       "1  Bloomberg Terminal  ...            NaN                 NaN   \n",
       "2  Bloomberg Terminal  ...            NaN                 NaN   \n",
       "3  Bloomberg Terminal  ...            NaN                 NaN   \n",
       "4  Bloomberg Terminal  ...            NaN                 NaN   \n",
       "\n",
       "  Marked as No-Show Meeting Notes  Group      User Email        Event UUID  \\\n",
       "0                No           NaN    NaN  ciec@smith.edu  DESAHSTCPNPU2GFD   \n",
       "1                No           NaN    NaN  ciec@smith.edu  EDWAHXWCNJ4CR2YT   \n",
       "2                No           NaN    NaN  ciec@smith.edu  AAUEBYZLIBGAAPSL   \n",
       "3                No           NaN    NaN  ciec@smith.edu  EFQHBY6INHBHZC6W   \n",
       "4                No           NaN    NaN  ciec@smith.edu  HCRAKIZJC5TOJNUQ   \n",
       "\n",
       "       Invitee UUID Invitee scheduled by Scheduling method  \n",
       "0  BEWJEC3D7ZTGL6RC                  NaN               NaN  \n",
       "1  CFRLHE3AY544OZJB                  NaN               NaN  \n",
       "2  BBTMFQPRXGKE5ILK                  NaN               NaN  \n",
       "3  EDQNBXJRWBJKXUYA                  NaN               NaN  \n",
       "4  CHXKOG2OIBH5GWGJ                  NaN               NaN  \n",
       "\n",
       "[5 rows x 43 columns]"
      ]
     },
     "execution_count": 2,
     "metadata": {},
     "output_type": "execute_result"
    }
   ],
   "source": [
    "link = \"events-export.csv\"\n",
    "pd.read_csv(link).head()"
   ]
  },
  {
   "cell_type": "markdown",
   "id": "cdf2bf75-45c7-4350-883b-0023c7c8b7ed",
   "metadata": {},
   "source": [
    "The activites are recorded under column \"Event Type Name\". \"Bloomberg Terminal\" means individual sessions whereas \"Bloomberg Peer Mentoring\" means the peer-mentoring. "
   ]
  },
  {
   "cell_type": "markdown",
   "id": "e5fb904f-0716-4737-bf9e-eff2d0ceaafd",
   "metadata": {},
   "source": [
    "# My codes\n",
    "\n",
    "## Attributes\n",
    "The internal attributes are event (as described above), ending and beginning date of the dataset (to help with the title of the plot). \n",
    "\n",
    "## Methods\n",
    "* My first method clean() cleans and converts string to datetime column.\n",
    "* My second method narrow() receives the output from the clean() method, filters the dataset for the event of interest and counts number of users (or hours) by month\n",
    "* My last method works on the output from narrow() to plot the bar chart"
   ]
  },
  {
   "cell_type": "code",
   "execution_count": 3,
   "id": "fc8ebced-2897-4a14-8838-55a521eabb06",
   "metadata": {},
   "outputs": [],
   "source": [
    "class BloombergReport:\n",
    "    def __init__(self,link,event,year):\n",
    "        self.link = link\n",
    "        self.event = event\n",
    "        self.year = year\n",
    "        \n",
    "    def clean(self):\n",
    "        data = pd.read_csv(link)\n",
    "        \n",
    "        # There are many columns but we are only choosing those of interest\n",
    "        clean_data = data[[\"Invitee Email\",\"Start Date & Time\",\"Event Type Name\"]]\n",
    "        \n",
    "        # Clean the date time column by converting from string to datetime format \n",
    "        clean_data.loc[:,'Start Date & Time'] =  pd.to_datetime(clean_data.loc[:,'Start Date & Time'], \n",
    "                                                                format='%Y-%m-%d %I:%M %p')\n",
    "        clean_data.loc[:,\"Month\"] = clean_data.loc[:,\"Start Date & Time\"].dt.month\n",
    "        clean_data.loc[:,\"Year\"] = clean_data.loc[:,\"Start Date & Time\"].dt.year\n",
    "        \n",
    "        return clean_data \n",
    "    \n",
    "    def narrow(self):\n",
    "        # Choose an event of interest\n",
    "        clean_data = self.clean()\n",
    "        mask = (clean_data.loc[:,\"Event Type Name\"] == self.event) & (clean_data.loc[:,\"Year\"] == self.year)\n",
    "        new_data = clean_data[mask]        \n",
    "                \n",
    "        # We are getting these internal attributes to reference them later when drawing the graph\n",
    "        self.start_month = min(new_data.loc[:,\"Month\"])\n",
    "        self.end_month = max(new_data.loc[:,\"Month\"])\n",
    "        self.start_year = min(new_data.loc[:,\"Year\"])\n",
    "        self.end_year = max(new_data.loc[:,\"Year\"])\n",
    "        \n",
    "        # Group by month and count usage\n",
    "        new_data = new_data.groupby(['Month'],as_index = False)[\"Invitee Email\"].count()\n",
    "        return new_data\n",
    "    \n",
    "    def graph(self):\n",
    "        new_data = self.narrow()\n",
    "        \n",
    "        # plot a bar chart\n",
    "        sns.barplot(\n",
    "            x=\"Month\", \n",
    "            y=\"Invitee Email\", \n",
    "            data=new_data, \n",
    "            ci=None, \n",
    "            color='#69b3a2').set(title=f\"{self.event} from {self.start_month}/{self.start_year} to {self.end_month}/{self.end_year}\", \n",
    "                                 xlabel='', \n",
    "                                 ylabel='Number of Hours')"
   ]
  },
  {
   "cell_type": "markdown",
   "id": "30703112-9624-4af7-bb56-03768820680e",
   "metadata": {},
   "source": [
    "# Examples\n",
    "I can change the year and the event I'm interested in"
   ]
  },
  {
   "cell_type": "code",
   "execution_count": 4,
   "id": "c365fa44-2cac-4f32-bdb9-abe3387e9a79",
   "metadata": {},
   "outputs": [],
   "source": [
    "PeerMentoring = BloombergReport(link, \"Bloomberg Peer Mentoring\",2023)"
   ]
  },
  {
   "cell_type": "code",
   "execution_count": 5,
   "id": "6355f311-4ad3-4c43-b71c-de0c999d45da",
   "metadata": {},
   "outputs": [
    {
     "name": "stderr",
     "output_type": "stream",
     "text": [
      "/opt/jupyterhub/lib/python3.8/site-packages/pandas/core/indexing.py:1951: SettingWithCopyWarning: \n",
      "A value is trying to be set on a copy of a slice from a DataFrame.\n",
      "Try using .loc[row_indexer,col_indexer] = value instead\n",
      "\n",
      "See the caveats in the documentation: https://pandas.pydata.org/pandas-docs/stable/user_guide/indexing.html#returning-a-view-versus-a-copy\n",
      "  self.obj[selected_item_labels] = value\n",
      "/opt/jupyterhub/lib/python3.8/site-packages/pandas/core/indexing.py:1667: SettingWithCopyWarning: \n",
      "A value is trying to be set on a copy of a slice from a DataFrame.\n",
      "Try using .loc[row_indexer,col_indexer] = value instead\n",
      "\n",
      "See the caveats in the documentation: https://pandas.pydata.org/pandas-docs/stable/user_guide/indexing.html#returning-a-view-versus-a-copy\n",
      "  self.obj[key] = value\n"
     ]
    },
    {
     "data": {
      "image/png": "[encoded data removed]",
      "text/plain": [
       "<Figure size 432x288 with 1 Axes>"
      ]
     },
     "metadata": {
      "needs_background": "light"
     },
     "output_type": "display_data"
    }
   ],
   "source": [
    "PeerMentoring.graph()"
   ]
  },
  {
   "cell_type": "code",
   "execution_count": 6,
   "id": "8beb8692-55d4-4d49-af0d-08c91c156a37",
   "metadata": {},
   "outputs": [
    {
     "name": "stderr",
     "output_type": "stream",
     "text": [
      "/opt/jupyterhub/lib/python3.8/site-packages/pandas/core/indexing.py:1951: SettingWithCopyWarning: \n",
      "A value is trying to be set on a copy of a slice from a DataFrame.\n",
      "Try using .loc[row_indexer,col_indexer] = value instead\n",
      "\n",
      "See the caveats in the documentation: https://pandas.pydata.org/pandas-docs/stable/user_guide/indexing.html#returning-a-view-versus-a-copy\n",
      "  self.obj[selected_item_labels] = value\n",
      "/opt/jupyterhub/lib/python3.8/site-packages/pandas/core/indexing.py:1667: SettingWithCopyWarning: \n",
      "A value is trying to be set on a copy of a slice from a DataFrame.\n",
      "Try using .loc[row_indexer,col_indexer] = value instead\n",
      "\n",
      "See the caveats in the documentation: https://pandas.pydata.org/pandas-docs/stable/user_guide/indexing.html#returning-a-view-versus-a-copy\n",
      "  self.obj[key] = value\n"
     ]
    },
    {
     "data": {
      "image/png": "[encoded data removed]",
      "text/plain": [
       "<Figure size 432x288 with 1 Axes>"
      ]
     },
     "metadata": {
      "needs_background": "light"
     },
     "output_type": "display_data"
    }
   ],
   "source": [
    "Bloomberg = BloombergReport(link, \"Bloomberg Terminal\",2022)\n",
    "Bloomberg.graph()"
   ]
  },
  {
   "cell_type": "code",
   "execution_count": 7,
   "id": "2c84826c-6f88-4ff5-983f-f3068a039307",
   "metadata": {},
   "outputs": [
    {
     "name": "stderr",
     "output_type": "stream",
     "text": [
      "/opt/jupyterhub/lib/python3.8/site-packages/pandas/core/indexing.py:1951: SettingWithCopyWarning: \n",
      "A value is trying to be set on a copy of a slice from a DataFrame.\n",
      "Try using .loc[row_indexer,col_indexer] = value instead\n",
      "\n",
      "See the caveats in the documentation: https://pandas.pydata.org/pandas-docs/stable/user_guide/indexing.html#returning-a-view-versus-a-copy\n",
      "  self.obj[selected_item_labels] = value\n",
      "/opt/jupyterhub/lib/python3.8/site-packages/pandas/core/indexing.py:1667: SettingWithCopyWarning: \n",
      "A value is trying to be set on a copy of a slice from a DataFrame.\n",
      "Try using .loc[row_indexer,col_indexer] = value instead\n",
      "\n",
      "See the caveats in the documentation: https://pandas.pydata.org/pandas-docs/stable/user_guide/indexing.html#returning-a-view-versus-a-copy\n",
      "  self.obj[key] = value\n"
     ]
    },
    {
     "data": {
      "image/png": "[encoded data removed]",
      "text/plain": [
       "<Figure size 432x288 with 1 Axes>"
      ]
     },
     "metadata": {
      "needs_background": "light"
     },
     "output_type": "display_data"
    }
   ],
   "source": [
    "Bloomberg = BloombergReport(link, \"Bloomberg Terminal\",2023)\n",
    "Bloomberg.graph()"
   ]
  }
 ],
 "metadata": {
  "kernelspec": {
   "display_name": "Python 3 (ipykernel)",
   "language": "python",
   "name": "python3"
  },
  "language_info": {
   "codemirror_mode": {
    "name": "ipython",
    "version": 3
   },
   "file_extension": ".py",
   "mimetype": "text/x-python",
   "name": "python",
   "nbconvert_exporter": "python",
   "pygments_lexer": "ipython3",
   "version": "3.8.10"
  }
 },
 "nbformat": 4,
 "nbformat_minor": 5
}
